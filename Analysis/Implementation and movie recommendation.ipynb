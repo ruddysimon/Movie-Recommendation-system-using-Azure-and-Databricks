{
 "cells": [
  {
   "cell_type": "code",
   "execution_count": 0,
   "metadata": {
    "application/vnd.databricks.v1+cell": {
     "cellMetadata": {
      "byteLimit": 2048000,
      "rowLimit": 10000
     },
     "inputWidgets": {},
     "nuid": "e38fed5f-df94-481d-aa71-110d855387c4",
     "showTitle": false,
     "title": ""
    }
   },
   "outputs": [],
   "source": [
    "%run /Repos/ruddys@sandiego.edu/Movie-Recommendation-system-using-Azure-and-Databricks/Analysis/Authorization"
   ]
  },
  {
   "cell_type": "code",
   "execution_count": 0,
   "metadata": {
    "application/vnd.databricks.v1+cell": {
     "cellMetadata": {
      "byteLimit": 2048000,
      "rowLimit": 10000
     },
     "inputWidgets": {},
     "nuid": "3d132166-2d94-41b4-8355-fbd6bd6e143d",
     "showTitle": false,
     "title": ""
    }
   },
   "outputs": [],
   "source": [
    "#import required libraries\n",
    "import datetime\n",
    "import pyspark.sql.functions as f\n",
    "import pyspark.sql.types\n",
    "import pandas as pd\n",
    "\n",
    "from pyspark.sql.functions import year, month, dayofmonth\n",
    "from pyspark.sql.functions import unix_timestamp, from_unixtime\n",
    "from pyspark.sql import Window\n",
    "from pyspark.sql.functions import rank, min"
   ]
  },
  {
   "cell_type": "code",
   "execution_count": 0,
   "metadata": {
    "application/vnd.databricks.v1+cell": {
     "cellMetadata": {
      "byteLimit": 2048000,
      "rowLimit": 10000
     },
     "inputWidgets": {},
     "nuid": "6f65ec70-27fc-4a79-a9d6-979e4860c3cf",
     "showTitle": false,
     "title": ""
    }
   },
   "outputs": [],
   "source": [
    "#test check to access the container\n",
    "dbutils.fs.ls(\"abfss://containerdatalake@samovieanalysis.dfs.core.windows.net\")"
   ]
  },
  {
   "cell_type": "code",
   "execution_count": 0,
   "metadata": {
    "application/vnd.databricks.v1+cell": {
     "cellMetadata": {
      "byteLimit": 2048000,
      "rowLimit": 10000
     },
     "inputWidgets": {},
     "nuid": "03e2a67b-84ab-41f4-907e-d93b63669a2f",
     "showTitle": false,
     "title": ""
    }
   },
   "outputs": [],
   "source": [
    "# list all the mounts points\n",
    "dbutils.fs.mounts()"
   ]
  },
  {
   "cell_type": "code",
   "execution_count": 0,
   "metadata": {
    "application/vnd.databricks.v1+cell": {
     "cellMetadata": {
      "byteLimit": 2048000,
      "rowLimit": 10000
     },
     "inputWidgets": {},
     "nuid": "84084a7b-7e73-44f7-8cfd-21af8a0276e8",
     "showTitle": false,
     "title": ""
    }
   },
   "outputs": [],
   "source": [
    "#Unzip the file Using the DBFS\n",
    "#copy thie file into local system file\n",
    "dbutils.fs.cp(\"dbfs:/mnt/movielens/ml_latest_small.zip\", \"file:/tmp/ml_latest_small.zip\")\n",
    "\n"
   ]
  },
  {
   "cell_type": "code",
   "execution_count": 0,
   "metadata": {
    "application/vnd.databricks.v1+cell": {
     "cellMetadata": {
      "byteLimit": 2048000,
      "rowLimit": 10000
     },
     "inputWidgets": {},
     "nuid": "a3045cc8-6793-4121-8f5a-64e8aeb7a7e1",
     "showTitle": false,
     "title": ""
    }
   },
   "outputs": [],
   "source": [
    "%sh\n",
    "ls -l /tmp/ml_latest_small.zip"
   ]
  },
  {
   "cell_type": "code",
   "execution_count": 0,
   "metadata": {
    "application/vnd.databricks.v1+cell": {
     "cellMetadata": {
      "byteLimit": 2048000,
      "rowLimit": 10000
     },
     "inputWidgets": {},
     "nuid": "9dcda5d1-cabb-4d86-9af8-7fe53568d849",
     "showTitle": false,
     "title": ""
    }
   },
   "outputs": [],
   "source": [
    "# %sh\n",
    "# rm -r /tmp/ml_latest_small.zip/"
   ]
  },
  {
   "cell_type": "code",
   "execution_count": 0,
   "metadata": {
    "application/vnd.databricks.v1+cell": {
     "cellMetadata": {
      "byteLimit": 2048000,
      "rowLimit": 10000
     },
     "inputWidgets": {},
     "nuid": "4022abac-69ea-4d38-9d21-ef09fe071e59",
     "showTitle": false,
     "title": ""
    }
   },
   "outputs": [],
   "source": [
    "%sh \n",
    "unzip /tmp/ml_latest_small.zip -d /tmp"
   ]
  },
  {
   "cell_type": "code",
   "execution_count": 0,
   "metadata": {
    "application/vnd.databricks.v1+cell": {
     "cellMetadata": {
      "byteLimit": 2048000,
      "rowLimit": 10000
     },
     "inputWidgets": {},
     "nuid": "c31b8246-6ff9-4fdc-b13d-dd457127bd34",
     "showTitle": false,
     "title": ""
    }
   },
   "outputs": [],
   "source": [
    "# Now if we use the `ls` we will see all the files that already copued into the local file system.\n",
    "dbutils.fs.ls(\"file:/tmp/ml-latest-small/\")"
   ]
  },
  {
   "cell_type": "code",
   "execution_count": 0,
   "metadata": {
    "application/vnd.databricks.v1+cell": {
     "cellMetadata": {
      "byteLimit": 2048000,
      "rowLimit": 10000
     },
     "inputWidgets": {},
     "nuid": "e914ee3e-df94-4e11-a457-c2c76456f828",
     "showTitle": false,
     "title": ""
    }
   },
   "outputs": [],
   "source": [
    "# Copy the files back from the local file system into the actual container (Edge Lake Container)\n",
    "dbutils.fs.cp(\"file:/tmp/ml-latest-small/movies.csv\", \"abfss://containerdatalake@samovieanalysis.dfs.core.windows.net/movies.csv\") \n",
    "dbutils.fs.cp(\"file:/tmp/ml-latest-small/ratings.csv\", \"abfss://containerdatalake@samovieanalysis.dfs.core.windows.net/ratings.csv\") \n",
    "dbutils.fs.cp(\"file:/tmp/ml-latest-small/tags.csv\", \"abfss://containerdatalake@samovieanalysis.dfs.core.windows.net/tags.csv\") \n",
    "dbutils.fs.cp(\"file:/tmp/ml-latest-small/links.csv\", \"abfss://containerdatalake@samovieanalysis.dfs.core.windows.net/links.csv\") \n"
   ]
  },
  {
   "cell_type": "code",
   "execution_count": 0,
   "metadata": {
    "application/vnd.databricks.v1+cell": {
     "cellMetadata": {},
     "inputWidgets": {},
     "nuid": "5582b103-aead-49db-9d19-32fd59d344db",
     "showTitle": false,
     "title": ""
    }
   },
   "outputs": [],
   "source": []
  }
 ],
 "metadata": {
  "application/vnd.databricks.v1+notebook": {
   "dashboards": [],
   "language": "python",
   "notebookMetadata": {
    "mostRecentlyExecutedCommandWithImplicitDF": {
     "commandId": 3611986451782971,
     "dataframes": [
      "_sqldf"
     ]
    },
    "pythonIndentUnit": 4
   },
   "notebookName": "Implementation and movie recommendation",
   "notebookOrigID": 3611986451782944,
   "widgets": {}
  }
 },
 "nbformat": 4,
 "nbformat_minor": 0
}
