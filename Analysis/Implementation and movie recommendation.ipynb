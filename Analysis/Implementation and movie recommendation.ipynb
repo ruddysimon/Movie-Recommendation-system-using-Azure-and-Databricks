{
 "cells": [
  {
   "cell_type": "code",
   "execution_count": 0,
   "metadata": {
    "application/vnd.databricks.v1+cell": {
     "cellMetadata": {
      "byteLimit": 2048000,
      "rowLimit": 10000
     },
     "inputWidgets": {},
     "nuid": "e38fed5f-df94-481d-aa71-110d855387c4",
     "showTitle": false,
     "title": ""
    }
   },
   "outputs": [],
   "source": [
    "%run /Repos/ruddys@sandiego.edu/Movie-Recommendation-system-using-Azure-and-Databricks/Analysis/Authorization"
   ]
  },
  {
   "cell_type": "code",
   "execution_count": 0,
   "metadata": {
    "application/vnd.databricks.v1+cell": {
     "cellMetadata": {
      "byteLimit": 2048000,
      "rowLimit": 10000
     },
     "inputWidgets": {},
     "nuid": "3d132166-2d94-41b4-8355-fbd6bd6e143d",
     "showTitle": false,
     "title": ""
    }
   },
   "outputs": [],
   "source": [
    "#import required libraries\n",
    "import datetime\n",
    "import pyspark.sql.functions as f\n",
    "import pyspark.sql.types\n",
    "import pandas as pd\n",
    "\n",
    "from pyspark.sql.functions import year, month, dayofmonth\n",
    "from pyspark.sql.functions import unix_timestamp, from_unixtime\n",
    "from pyspark.sql import Window\n",
    "from pyspark.sql.functions import rank, min"
   ]
  },
  {
   "cell_type": "code",
   "execution_count": 0,
   "metadata": {
    "application/vnd.databricks.v1+cell": {
     "cellMetadata": {
      "byteLimit": 2048000,
      "rowLimit": 10000
     },
     "inputWidgets": {},
     "nuid": "6f65ec70-27fc-4a79-a9d6-979e4860c3cf",
     "showTitle": false,
     "title": ""
    }
   },
   "outputs": [],
   "source": [
    "#test check to access the container\n",
    "dbutils.fs.ls(\"abfss://containerdatalake@samovieanalysis.dfs.core.windows.net\")"
   ]
  },
  {
   "cell_type": "code",
   "execution_count": 0,
   "metadata": {
    "application/vnd.databricks.v1+cell": {
     "cellMetadata": {
      "byteLimit": 2048000,
      "rowLimit": 10000
     },
     "inputWidgets": {},
     "nuid": "03e2a67b-84ab-41f4-907e-d93b63669a2f",
     "showTitle": false,
     "title": ""
    }
   },
   "outputs": [],
   "source": [
    "# list all the mounts points\n",
    "dbutils.fs.mounts()"
   ]
  },
  {
   "cell_type": "code",
   "execution_count": 0,
   "metadata": {
    "application/vnd.databricks.v1+cell": {
     "cellMetadata": {
      "byteLimit": 2048000,
      "rowLimit": 10000
     },
     "inputWidgets": {},
     "nuid": "84084a7b-7e73-44f7-8cfd-21af8a0276e8",
     "showTitle": false,
     "title": ""
    }
   },
   "outputs": [],
   "source": [
    "#Unzip the file Using the DBFS\n",
    "#copy thie file into local system file\n",
    "dbutils.fs.cp(\"dbfs:/mnt/movieanalysis/ml_latest_small.zip\", \"file:/tmp/ml_latest_small.zip\")"
   ]
  },
  {
   "cell_type": "code",
   "execution_count": 0,
   "metadata": {
    "application/vnd.databricks.v1+cell": {
     "cellMetadata": {
      "byteLimit": 2048000,
      "rowLimit": 10000
     },
     "inputWidgets": {},
     "nuid": "a3045cc8-6793-4121-8f5a-64e8aeb7a7e1",
     "showTitle": false,
     "title": ""
    }
   },
   "outputs": [],
   "source": [
    "%sh\n",
    "# ls -l /tmp/ml_latest_small.zip"
   ]
  },
  {
   "cell_type": "code",
   "execution_count": 0,
   "metadata": {
    "application/vnd.databricks.v1+cell": {
     "cellMetadata": {
      "byteLimit": 2048000,
      "rowLimit": 10000
     },
     "inputWidgets": {},
     "nuid": "9dcda5d1-cabb-4d86-9af8-7fe53568d849",
     "showTitle": false,
     "title": ""
    }
   },
   "outputs": [],
   "source": [
    "# %sh\n",
    "# rm -r /tmp/ml_latest_small.zip/"
   ]
  },
  {
   "cell_type": "code",
   "execution_count": 0,
   "metadata": {
    "application/vnd.databricks.v1+cell": {
     "cellMetadata": {
      "byteLimit": 2048000,
      "rowLimit": 10000
     },
     "inputWidgets": {},
     "nuid": "4022abac-69ea-4d38-9d21-ef09fe071e59",
     "showTitle": false,
     "title": ""
    }
   },
   "outputs": [],
   "source": [
    "%sh \n",
    "unzip /tmp/ml_latest_small.zip -d /tmp"
   ]
  },
  {
   "cell_type": "code",
   "execution_count": 0,
   "metadata": {
    "application/vnd.databricks.v1+cell": {
     "cellMetadata": {
      "byteLimit": 2048000,
      "rowLimit": 10000
     },
     "inputWidgets": {},
     "nuid": "c31b8246-6ff9-4fdc-b13d-dd457127bd34",
     "showTitle": false,
     "title": ""
    }
   },
   "outputs": [],
   "source": [
    "# Now if we use the `ls` we will see all the files that already copued into the local file system.\n",
    "dbutils.fs.ls(\"file:/tmp/ml-latest-small/\")"
   ]
  },
  {
   "cell_type": "code",
   "execution_count": 0,
   "metadata": {
    "application/vnd.databricks.v1+cell": {
     "cellMetadata": {
      "byteLimit": 2048000,
      "rowLimit": 10000
     },
     "inputWidgets": {},
     "nuid": "e914ee3e-df94-4e11-a457-c2c76456f828",
     "showTitle": false,
     "title": ""
    }
   },
   "outputs": [],
   "source": [
    "# Copy the files back from the local file system into the actual container (Edge Lake Container)\n",
    "dbutils.fs.cp(\"file:/tmp/ml-latest-small/movies.csv\", \"abfss://containerdatalake@samovieanalysis.dfs.core.windows.net/movies.csv\") \n",
    "dbutils.fs.cp(\"file:/tmp/ml-latest-small/ratings.csv\", \"abfss://containerdatalake@samovieanalysis.dfs.core.windows.net/ratings.csv\") \n",
    "dbutils.fs.cp(\"file:/tmp/ml-latest-small/tags.csv\", \"abfss://containerdatalake@samovieanalysis.dfs.core.windows.net/tags.csv\") \n",
    "dbutils.fs.cp(\"file:/tmp/ml-latest-small/links.csv\", \"abfss://containerdatalake@samovieanalysis.dfs.core.windows.net/links.csv\") \n"
   ]
  },
  {
   "cell_type": "code",
   "execution_count": 0,
   "metadata": {
    "application/vnd.databricks.v1+cell": {
     "cellMetadata": {
      "byteLimit": 2048000,
      "rowLimit": 10000
     },
     "inputWidgets": {},
     "nuid": "561887c5-e5b8-4486-85bf-1886698b32a0",
     "showTitle": false,
     "title": ""
    }
   },
   "outputs": [],
   "source": [
    "# Note: So any line that starts with % should be the beginning of a new input cell. So, if you have any cell start with '%' you should not add any comment or note. "
   ]
  },
  {
   "cell_type": "code",
   "execution_count": 0,
   "metadata": {
    "application/vnd.databricks.v1+cell": {
     "cellMetadata": {
      "byteLimit": 2048000,
      "rowLimit": 10000
     },
     "inputWidgets": {},
     "nuid": "5582b103-aead-49db-9d19-32fd59d344db",
     "showTitle": false,
     "title": ""
    }
   },
   "outputs": [],
   "source": [
    "%fs ls abfss://containerdatalake@samovieanalysis.dfs.core.windows.net/"
   ]
  },
  {
   "cell_type": "code",
   "execution_count": 0,
   "metadata": {
    "application/vnd.databricks.v1+cell": {
     "cellMetadata": {
      "byteLimit": 2048000,
      "rowLimit": 10000
     },
     "inputWidgets": {},
     "nuid": "d36e3c7e-ea27-4cc0-aa6c-35ea0a6f9647",
     "showTitle": false,
     "title": ""
    }
   },
   "outputs": [],
   "source": [
    "# File location and type\n",
    "\n",
    "# Read \"Movie\" dataset\n",
    "file_location_movie = \"/mnt/movieanalysis/movies.csv\"\n",
    "\n",
    "file_type = \"csv\"\n",
    "\n",
    "\n",
    "\n",
    "# CSV options\n",
    "infer_schema = \"true\"\n",
    "first_row_is_header = \"true\"\n",
    "delimiter = \",\"\n",
    "\n",
    "# The applied options are for CSV files. For other file types, these will be ignored.\n",
    " \n",
    "df_movies = spark.read.format(file_type) \\\n",
    "      .option(\"inferSchema\", infer_schema) \\\n",
    "      .option(\"header\", first_row_is_header) \\\n",
    "      .option(\"sep\", delimiter) \\\n",
    "      .load(file_location_movie)\n",
    "    \n",
    "display(df_movies)\n",
    "df_movies.count()"
   ]
  },
  {
   "cell_type": "code",
   "execution_count": 0,
   "metadata": {
    "application/vnd.databricks.v1+cell": {
     "cellMetadata": {
      "byteLimit": 2048000,
      "rowLimit": 10000
     },
     "inputWidgets": {},
     "nuid": "007bb67a-e62d-41e1-b393-9b270ea0e72e",
     "showTitle": false,
     "title": ""
    }
   },
   "outputs": [],
   "source": [
    "# Read \"link\" dataset\n",
    "file_location_link = \"/mnt/movieanalysis/links.csv\"\n",
    "df_links = spark.read.format(file_type) \\\n",
    "      .option(\"inferSchema\", infer_schema) \\\n",
    "      .option(\"header\", first_row_is_header) \\\n",
    "      .option(\"sep\", delimiter) \\\n",
    "      .load(file_location_link)\n",
    "    \n",
    "display(df_links)"
   ]
  },
  {
   "cell_type": "code",
   "execution_count": 0,
   "metadata": {
    "application/vnd.databricks.v1+cell": {
     "cellMetadata": {
      "byteLimit": 2048000,
      "rowLimit": 10000
     },
     "inputWidgets": {},
     "nuid": "bb594bf7-a4b2-4a2c-b06c-7d9d9f225098",
     "showTitle": false,
     "title": ""
    }
   },
   "outputs": [],
   "source": [
    "# Read \"tags\" dataset\n",
    "file_location_tags = \"/mnt/movieanalysis/tags.csv\"\n",
    "df_tags = spark.read.format(file_type) \\\n",
    "      .option(\"inferSchema\", infer_schema) \\\n",
    "      .option(\"header\", first_row_is_header) \\\n",
    "      .option(\"sep\", delimiter) \\\n",
    "      .load(file_location_tags)\n",
    "    \n",
    "display(df_tags)"
   ]
  },
  {
   "cell_type": "code",
   "execution_count": 0,
   "metadata": {
    "application/vnd.databricks.v1+cell": {
     "cellMetadata": {
      "byteLimit": 2048000,
      "rowLimit": 10000
     },
     "inputWidgets": {},
     "nuid": "ead19fd8-8694-4b57-9bad-40d0ab147057",
     "showTitle": false,
     "title": ""
    }
   },
   "outputs": [],
   "source": [
    "# Read \"ratings\" dataset\n",
    "file_location_ratings = \"/mnt/movieanalysis/ratings.csv\"\n",
    "df_ratings = spark.read.format(file_type) \\\n",
    "      .option(\"inferSchema\", infer_schema) \\\n",
    "      .option(\"header\", first_row_is_header) \\\n",
    "      .option(\"sep\", delimiter) \\\n",
    "      .load(file_location_ratings)\n",
    "    \n",
    "display(df_ratings)"
   ]
  },
  {
   "cell_type": "code",
   "execution_count": 0,
   "metadata": {
    "application/vnd.databricks.v1+cell": {
     "cellMetadata": {
      "byteLimit": 2048000,
      "rowLimit": 10000
     },
     "inputWidgets": {},
     "nuid": "1cc1d2d5-6ea4-47f4-aa9e-ebb2b3525298",
     "showTitle": false,
     "title": ""
    }
   },
   "outputs": [],
   "source": [
    "# Join Movies and rating dataset together\n",
    "movies_rating_df = df_movies.join(df_ratings, 'movieId','left')\n",
    "display(movies_rating_df)"
   ]
  },
  {
   "cell_type": "code",
   "execution_count": 0,
   "metadata": {
    "application/vnd.databricks.v1+cell": {
     "cellMetadata": {
      "byteLimit": 2048000,
      "rowLimit": 10000
     },
     "inputWidgets": {},
     "nuid": "224d205c-2a38-4998-a7f2-fc5a78ba7329",
     "showTitle": false,
     "title": ""
    }
   },
   "outputs": [],
   "source": [
    "# Join with tags dataset\n",
    "movies_rating_df=movies_rating_df.join(df_tags,['movieID','userId'],'inner')\n",
    "display(movies_rating_df)"
   ]
  },
  {
   "cell_type": "code",
   "execution_count": 0,
   "metadata": {
    "application/vnd.databricks.v1+cell": {
     "cellMetadata": {
      "byteLimit": 2048000,
      "rowLimit": 10000
     },
     "inputWidgets": {},
     "nuid": "2f4fff8a-f554-4fb0-a653-9d50551c81c6",
     "showTitle": false,
     "title": ""
    }
   },
   "outputs": [],
   "source": [
    "#Join with ratings with tag\n",
    "df_ratings_tags=df_ratings.join(df_tags,['movieID'],'inner')\n",
    "display(movies_rating_df)"
   ]
  },
  {
   "cell_type": "code",
   "execution_count": 0,
   "metadata": {
    "application/vnd.databricks.v1+cell": {
     "cellMetadata": {
      "byteLimit": 2048000,
      "rowLimit": 10000
     },
     "inputWidgets": {},
     "nuid": "f947cafb-600d-4ef2-a0e5-43deaa68284b",
     "showTitle": false,
     "title": ""
    }
   },
   "outputs": [],
   "source": [
    "df_ratings_add_tsdate=df_ratings.withColumn(\"tsdate\",f.from_unixtime(\"timestamp\"))\n",
    "df_ratings_add_tsdate.display()"
   ]
  },
  {
   "cell_type": "code",
   "execution_count": 0,
   "metadata": {
    "application/vnd.databricks.v1+cell": {
     "cellMetadata": {
      "byteLimit": 2048000,
      "rowLimit": 10000
     },
     "inputWidgets": {},
     "nuid": "24a66c1f-512e-451c-9cf2-24e4b5305858",
     "showTitle": false,
     "title": ""
    }
   },
   "outputs": [],
   "source": [
    "df_selected_rating_date=df_ratings_add_tsdate.select('userid','movieid','rating',f.to_date(unix_timestamp('tsdate','yyyy-MM-dd HH:mm:ss').cast('timestamp')).alias('rating_date'))\n",
    "df_selected_rating_date.display()"
   ]
  },
  {
   "cell_type": "code",
   "execution_count": 0,
   "metadata": {
    "application/vnd.databricks.v1+cell": {
     "cellMetadata": {
      "byteLimit": 2048000,
      "rowLimit": 10000
     },
     "inputWidgets": {},
     "nuid": "1090a71d-3398-4687-8878-40df1292ef10",
     "showTitle": false,
     "title": ""
    }
   },
   "outputs": [],
   "source": [
    "df_rating_year=df_selected_rating_date.groupBy('rating_date').count()\n",
    "df_rating_year.display()"
   ]
  },
  {
   "cell_type": "code",
   "execution_count": 0,
   "metadata": {
    "application/vnd.databricks.v1+cell": {
     "cellMetadata": {
      "byteLimit": 2048000,
      "rowLimit": 10000
     },
     "inputWidgets": {},
     "nuid": "6e838891-3a4b-47a8-b8ff-68c1a403ed0f",
     "showTitle": false,
     "title": ""
    }
   },
   "outputs": [],
   "source": [
    "df_avg_ratings=df_selected_rating_date.groupBy('movieid').mean('rating')\n",
    "df_avg_ratings.display()"
   ]
  },
  {
   "cell_type": "code",
   "execution_count": 0,
   "metadata": {
    "application/vnd.databricks.v1+cell": {
     "cellMetadata": {
      "byteLimit": 2048000,
      "rowLimit": 10000
     },
     "inputWidgets": {},
     "nuid": "568fde37-b130-44fb-b7eb-6fd192b54853",
     "showTitle": false,
     "title": ""
    }
   },
   "outputs": [],
   "source": [
    "df=df_avg_ratings.join(df_movies,'movieid', 'inner')\n",
    "df=df.withColumnRenamed('avg(rating)', 'avg_rating')\n",
    "df.display()"
   ]
  },
  {
   "cell_type": "code",
   "execution_count": 0,
   "metadata": {
    "application/vnd.databricks.v1+cell": {
     "cellMetadata": {
      "byteLimit": 2048000,
      "rowLimit": 10000
     },
     "inputWidgets": {},
     "nuid": "6805162a-f35b-4294-99a3-4b03099b1552",
     "showTitle": false,
     "title": ""
    }
   },
   "outputs": [],
   "source": [
    "df_total_rating=df_selected_rating_date.groupBy('movieid').count()\n",
    "df_total_rating.display()"
   ]
  },
  {
   "cell_type": "code",
   "execution_count": 0,
   "metadata": {
    "application/vnd.databricks.v1+cell": {
     "cellMetadata": {
      "byteLimit": 2048000,
      "rowLimit": 10000
     },
     "inputWidgets": {},
     "nuid": "d90c3974-ce44-40cc-bf2e-fa1935d17bc7",
     "showTitle": false,
     "title": ""
    }
   },
   "outputs": [],
   "source": [
    "df_total_rating=df_total_rating.filter(df_total_rating['count']>50)\n",
    "df_ratings_filtered=df_selected_rating_date.join(df_total_rating, 'movieid', 'inner')\n",
    "df_ratings_filtered.display()"
   ]
  },
  {
   "cell_type": "code",
   "execution_count": 0,
   "metadata": {
    "application/vnd.databricks.v1+cell": {
     "cellMetadata": {
      "byteLimit": 2048000,
      "rowLimit": 10000
     },
     "inputWidgets": {},
     "nuid": "82ec0510-a701-435c-9207-7ef890f34673",
     "showTitle": false,
     "title": ""
    }
   },
   "outputs": [],
   "source": [
    "df_rating_per_user=df_ratings_filtered.select('userid','movieid','rating').groupBy('userid', 'movieid').max('rating')\n",
    "df_rating_per_user_movie=df_rating_per_user.join(df_movies,'movieid','inner')\n",
    "df_rating_per_user_movie=df_rating_per_user_movie.withColumnRenamed('max(rating)', 'max_rating')\n",
    "df_rating_per_user_movie.display()"
   ]
  },
  {
   "cell_type": "code",
   "execution_count": 0,
   "metadata": {
    "application/vnd.databricks.v1+cell": {
     "cellMetadata": {
      "byteLimit": 2048000,
      "rowLimit": 10000
     },
     "inputWidgets": {},
     "nuid": "5c55e87e-84ea-44be-8769-0318166608b0",
     "showTitle": false,
     "title": ""
    }
   },
   "outputs": [],
   "source": [
    "df_rating_max_rating=df_rating_per_user_movie.groupBy('userid','movieid','title','genres').max('max_rating')\n",
    "df_rating_max_rating=df_rating_max_rating.withColumnRenamed('max(max_rating)', 'max_rating')\n",
    "df_rating_max_rating.display()"
   ]
  },
  {
   "cell_type": "code",
   "execution_count": 0,
   "metadata": {
    "application/vnd.databricks.v1+cell": {
     "cellMetadata": {
      "byteLimit": 2048000,
      "rowLimit": 10000
     },
     "inputWidgets": {},
     "nuid": "f10703f0-a5be-43f4-b68c-9044e1c1c417",
     "showTitle": false,
     "title": ""
    }
   },
   "outputs": [],
   "source": [
    "df_rating_max_rating=df_rating_max_rating.filter(df_rating_max_rating['max_rating']>=4)\n",
    "df_rating_max_rating.display()"
   ]
  },
  {
   "cell_type": "code",
   "execution_count": 0,
   "metadata": {
    "application/vnd.databricks.v1+cell": {
     "cellMetadata": {
      "byteLimit": 2048000,
      "rowLimit": 10000
     },
     "inputWidgets": {},
     "nuid": "16fbac58-3813-4ba0-b7c9-4a12972037b4",
     "showTitle": false,
     "title": ""
    }
   },
   "outputs": [],
   "source": [
    "#identify best movies per genre\n",
    "df_movies_per_genere=df_rating_max_rating.groupBy('genres','title').count()\n",
    "df_movies_per_genere.display()"
   ]
  },
  {
   "cell_type": "code",
   "execution_count": 0,
   "metadata": {
    "application/vnd.databricks.v1+cell": {
     "cellMetadata": {
      "byteLimit": 2048000,
      "rowLimit": 10000
     },
     "inputWidgets": {},
     "nuid": "f0143095-1cc0-4960-af8e-980ce66bb432",
     "showTitle": false,
     "title": ""
    }
   },
   "outputs": [],
   "source": [
    "#identify genres of user\n",
    "df_ratings_genre=df_rating_max_rating.select('userid','title','genres').groupBy('userid','genres').count()\n",
    "df_ratings_genre.display()"
   ]
  },
  {
   "cell_type": "code",
   "execution_count": 0,
   "metadata": {
    "application/vnd.databricks.v1+cell": {
     "cellMetadata": {
      "byteLimit": 2048000,
      "rowLimit": 10000
     },
     "inputWidgets": {},
     "nuid": "12cb4a8e-2b7f-46fb-94c3-2b96452a7f68",
     "showTitle": false,
     "title": ""
    }
   },
   "outputs": [],
   "source": [
    "#latest Trending Movies Over all\n",
    "df_recent_movie=df_ratings_filtered.groupBy('userid','movieid').agg(f.max(df_ratings_filtered['rating_date']))\n",
    "df_recent_movie.display()"
   ]
  },
  {
   "cell_type": "code",
   "execution_count": 0,
   "metadata": {
    "application/vnd.databricks.v1+cell": {
     "cellMetadata": {
      "byteLimit": 2048000,
      "rowLimit": 10000
     },
     "inputWidgets": {},
     "nuid": "8a396a1f-fc45-4fac-8a34-7d0a9fe6548b",
     "showTitle": false,
     "title": ""
    }
   },
   "outputs": [],
   "source": [
    "df_movies_per_genere=df.groupBy('genres').avg('avg_rating')\n",
    "display(df_movies_per_genere)"
   ]
  },
  {
   "cell_type": "code",
   "execution_count": 0,
   "metadata": {
    "application/vnd.databricks.v1+cell": {
     "cellMetadata": {},
     "inputWidgets": {},
     "nuid": "43ee8e09-f465-4eaf-b5ad-454f94109803",
     "showTitle": false,
     "title": ""
    }
   },
   "outputs": [],
   "source": []
  }
 ],
 "metadata": {
  "application/vnd.databricks.v1+notebook": {
   "dashboards": [],
   "language": "python",
   "notebookMetadata": {
    "mostRecentlyExecutedCommandWithImplicitDF": {
     "commandId": 3611986451782974,
     "dataframes": [
      "_sqldf"
     ]
    },
    "pythonIndentUnit": 4
   },
   "notebookName": "Implementation and movie recommendation",
   "notebookOrigID": 3611986451782944,
   "widgets": {}
  }
 },
 "nbformat": 4,
 "nbformat_minor": 0
}
